{
 "cells": [
  {
   "cell_type": "code",
   "execution_count": 1,
   "metadata": {},
   "outputs": [],
   "source": [
    "import sklearn.datasets as datasets\n",
    "import numpy as np\n",
    "import scipy"
   ]
  },
  {
   "cell_type": "code",
   "execution_count": 2,
   "metadata": {},
   "outputs": [],
   "source": [
    "def load_iris():\n",
    "    return datasets.load_iris()['data'].T, datasets.load_iris()['target']\n",
    "\n",
    "def vcol(v):\n",
    "    return v.reshape(-1, 1)\n",
    "\n",
    "def vrow(v):\n",
    "    return v.reshape(1, -1)"
   ]
  },
  {
   "cell_type": "code",
   "execution_count": 3,
   "metadata": {},
   "outputs": [],
   "source": [
    "def cov(D, mu = False):\n",
    "    mu_ = D.mean(axis=1)\n",
    "    DC = D - vcol(mu_)\n",
    "    C = np.dot(DC, DC.T) / D.shape[1]\n",
    "    if mu:\n",
    "        return C, mu_\n",
    "    return C\n",
    "\n",
    "def split(D, L, seed=0):\n",
    "    nTrain = int(D.shape[1] * 2.0 / 3.0)\n",
    "    np.random.seed(seed)\n",
    "    idx = np.random.permutation(D.shape[1])\n",
    "    idxTrain = idx[0:nTrain]\n",
    "    idxTest = idx[nTrain:]\n",
    "    DTR = D[:, idxTrain]\n",
    "    DVAL = D[:, idxTest]\n",
    "    LTR = L[idxTrain]\n",
    "    LVAL = L[idxTest]\n",
    "    return (DTR, LTR), (DVAL, LVAL)"
   ]
  },
  {
   "cell_type": "code",
   "execution_count": 4,
   "metadata": {},
   "outputs": [],
   "source": [
    "import numpy as np\n",
    "\n",
    "\n",
    "def logpdf_GAU_ND_sing(x, mu, C):\n",
    "    \"\"\"\n",
    "    x: data matrix of shape (M, 1)\n",
    "    mu: numpy array of shape (M, 1)\n",
    "    C: numpy array of shape (M, M) representing the covariance matrix\n",
    "    \"\"\"\n",
    "    M = x.shape[0]\n",
    "    C_inv = np.linalg.inv(C)\n",
    "    sign, slogdet = np.linalg.slogdet(C)\n",
    "    C_inv, sign, slogdet\n",
    "    factor1 = -(M / 2) * np.log(2 * np.pi)\n",
    "    factor2 = -0.5 * slogdet\n",
    "    factor3 = -0.5 * np.dot(np.dot((x - mu).T, C_inv), (x - mu))\n",
    "\n",
    "    return factor1 + factor2 + factor3\n",
    "\n",
    "\n",
    "def logpdf_GAU_ND(x, mu, C):\n",
    "    \"\"\"\n",
    "    x: data matrix of shape (M, n)\n",
    "    mu: numpy array of shape (M, 1)\n",
    "    C: numpy array of shape (M, M) representing the covariance matrix\n",
    "    \"\"\"\n",
    "    M = x.shape[0]\n",
    "    C_inv = np.linalg.inv(C)  # shape (M, M)\n",
    "    _, slogdet = np.linalg.slogdet(C)\n",
    "    factor1 = -(M / 2) * np.log(2 * np.pi)\n",
    "    factor2 = -0.5 * slogdet\n",
    "\n",
    "    diff = x.T - mu  # x.T shape (n, M), mu.T shape (1, M), diff shape (n, M)\n",
    "\n",
    "    product = np.dot(C_inv, diff.T)\n",
    "    # C_inv shape (M, M), diff.T shape (M, n), product shape (M, n)\n",
    "    factor3 = -0.5 * np.sum(diff.T * product, axis=0)\n",
    "    # diff.T shape (M, n), product shape (M, n), result shape (n,)\n",
    "    return factor1 + factor2 + factor3\n",
    "\n",
    "\n",
    "def loglikelihood(x, mu, C):\n",
    "    return np.sum(logpdf_GAU_ND(x, mu, C))\n"
   ]
  },
  {
   "cell_type": "code",
   "execution_count": 5,
   "metadata": {},
   "outputs": [],
   "source": [
    "def within_cov(D, labels):\n",
    "    classes = set(labels)\n",
    "    C = np.zeros((D.shape[0], D.shape[0]))\n",
    "    for class_ in classes:\n",
    "        Dc = D[:, labels==class_]\n",
    "        mu_c = Dc.mean(axis=1)\n",
    "        Dc -= vcol(mu_c)\n",
    "        C += np.dot(Dc, Dc.T)\n",
    "    return C/D.shape[1]"
   ]
  },
  {
   "cell_type": "code",
   "execution_count": 6,
   "metadata": {},
   "outputs": [],
   "source": [
    "data, labels = load_iris()"
   ]
  },
  {
   "cell_type": "code",
   "execution_count": 7,
   "metadata": {},
   "outputs": [],
   "source": [
    "(DTR, LTR), (DVAL, LVAL) = split(data, labels)"
   ]
  },
  {
   "cell_type": "code",
   "execution_count": 24,
   "metadata": {},
   "outputs": [],
   "source": [
    "def gaussian_classifier(DTR, LTR, DVAL, LVAL, prior, type = 0):\n",
    "    \"\"\"\n",
    "    type 0: MVG\n",
    "    type 1: Naive Bayes\n",
    "    type 2: Tied\n",
    "    \"\"\"\n",
    "    mus = [DTR[:, LTR == i].mean(axis=1) for i in set(LTR)]\n",
    "    Cs = [cov(DTR[:, LTR == i]) for i in set(LTR)]\n",
    "    if type == 1:\n",
    "        Cs = [C * np.identity(C.shape[0]) for C in Cs]\n",
    "    if type == 2:\n",
    "        C_w = within_cov(DTR, LTR)\n",
    "        Cs = [C_w for _ in range(len(mus))]\n",
    "    densities = np.array([np.exp(logpdf_GAU_ND(DVAL, mus[i], Cs[i])) for i in range(len(mus))])\n",
    "    SJoint = densities * prior\n",
    "    SMargin = vrow(SJoint.sum(axis=0))\n",
    "    SPost = SJoint / SMargin\n",
    "    print(np.argmax(SPost, axis=0))\n",
    "    return 1-np.sum(np.argmax(SPost, axis=0) == LVAL)/LVAL.shape[0]"
   ]
  },
  {
   "cell_type": "code",
   "execution_count": 29,
   "metadata": {},
   "outputs": [],
   "source": [
    "def binary_gaussian_classifier(DTR, LTR, DVAL, LVAL, prior, type = 0):\n",
    "    \"\"\"\n",
    "    type 0: MVG\n",
    "    type 1: Naive Bayes\n",
    "    type 2: Tied\n",
    "    \"\"\"\n",
    "    mus = [DTR[:, LTR == i].mean(axis=1) for i in set(LTR)]\n",
    "    Cs = [cov(DTR[:, LTR == i]) for i in set(LTR)]\n",
    "    if type == 1:\n",
    "        Cs = [C * np.identity(C.shape[0]) for C in Cs]\n",
    "    if type == 2:\n",
    "        C_w = within_cov(DTR, LTR)\n",
    "        Cs = [C_w for _ in range(len(mus))]\n",
    "    densities = np.array([np.exp(logpdf_GAU_ND(DVAL, mus[i], Cs[i])) for i in range(len(mus))])\n",
    "    llr = densities[1] - densities[0]\n",
    "    predictions = llr >= 0\n",
    "    return 1-np.sum(predictions == LVAL)/LVAL.shape[0]"
   ]
  },
  {
   "cell_type": "code",
   "execution_count": 21,
   "metadata": {},
   "outputs": [
    {
     "name": "stdout",
     "output_type": "stream",
     "text": [
      "(4, 100) (100,) (4, 50) (50,)\n",
      "(4, 100) (100,) (4, 50) (50,)\n",
      "(4, 100) (100,) (4, 50) (50,)\n"
     ]
    },
    {
     "data": {
      "text/plain": [
       "(0.040000000000000036, 0.040000000000000036, 0.020000000000000018)"
      ]
     },
     "execution_count": 21,
     "metadata": {},
     "output_type": "execute_result"
    }
   ],
   "source": [
    "gaussian_classifier(DTR, LTR, DVAL, LVAL, 1/3, type=0), gaussian_classifier(DTR, LTR, DVAL, LVAL, 1/3, type=1), gaussian_classifier(DTR, LTR, DVAL, LVAL, 1/3, type=2)"
   ]
  },
  {
   "cell_type": "code",
   "execution_count": 22,
   "metadata": {},
   "outputs": [],
   "source": [
    "b_data = data[:, labels != 0]\n",
    "b_labels = labels[labels != 0]\n",
    "(bDTR, bLTR), (bDVAL, bLVAL) = split(b_data, b_labels)"
   ]
  },
  {
   "cell_type": "code",
   "execution_count": 30,
   "metadata": {},
   "outputs": [
    {
     "name": "stdout",
     "output_type": "stream",
     "text": [
      "[0 1 0 1 0 0 0 1 1 1 1 1 1 1 0 0 0 0 0 1 1 0 1 1 1 0 0 0 0 1 1 1 0 0]\n"
     ]
    },
    {
     "data": {
      "text/plain": [
       "(0.08823529411764708, 0.08823529411764708)"
      ]
     },
     "execution_count": 30,
     "metadata": {},
     "output_type": "execute_result"
    }
   ],
   "source": [
    "gaussian_classifier(bDTR, bLTR, bDVAL, bLVAL-1, 1/2, type=0), binary_gaussian_classifier(bDTR, bLTR, bDVAL, bLVAL-1, 1/2, type=0)"
   ]
  }
 ],
 "metadata": {
  "kernelspec": {
   "display_name": "env",
   "language": "python",
   "name": "python3"
  },
  "language_info": {
   "codemirror_mode": {
    "name": "ipython",
    "version": 3
   },
   "file_extension": ".py",
   "mimetype": "text/x-python",
   "name": "python",
   "nbconvert_exporter": "python",
   "pygments_lexer": "ipython3",
   "version": "3.11.6"
  }
 },
 "nbformat": 4,
 "nbformat_minor": 2
}
