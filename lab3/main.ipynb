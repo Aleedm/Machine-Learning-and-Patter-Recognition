{
 "cells": [
  {
   "cell_type": "code",
   "execution_count": 1,
   "metadata": {},
   "outputs": [],
   "source": [
    "from sklearn import datasets\n",
    "import numpy as np"
   ]
  },
  {
   "cell_type": "code",
   "execution_count": 2,
   "metadata": {},
   "outputs": [],
   "source": [
    "def load_iris():\n",
    "    return datasets.load_iris()['data'].T, datasets.load_iris()['target']\n",
    "def vcol(v):\n",
    "    return v.reshape(v.size, 1)\n",
    "def vrow(v):\n",
    "    return v.reshape(1, v.size)"
   ]
  },
  {
   "cell_type": "code",
   "execution_count": 3,
   "metadata": {},
   "outputs": [],
   "source": [
    "data, labels = load_iris()\n"
   ]
  },
  {
   "cell_type": "code",
   "execution_count": 4,
   "metadata": {},
   "outputs": [
    {
     "data": {
      "text/plain": [
       "(4, 150)"
      ]
     },
     "execution_count": 4,
     "metadata": {},
     "output_type": "execute_result"
    }
   ],
   "source": [
    "data.shape"
   ]
  },
  {
   "cell_type": "code",
   "execution_count": 5,
   "metadata": {},
   "outputs": [],
   "source": [
    "def cov(D):\n",
    "    mu = D.mean(axis=1)\n",
    "    DC = D - vcol(mu)\n",
    "    C = np.dot(DC, DC.T) / D.shape[1]\n",
    "    return C"
   ]
  },
  {
   "cell_type": "code",
   "execution_count": 6,
   "metadata": {},
   "outputs": [],
   "source": [
    "def PCA(D, n):\n",
    "    C = cov(D)\n",
    "    _, U = np.linalg.eigh(C)\n",
    "    P = U[:, ::-1][:, 0:n]\n",
    "    DP = np.dot(P.T, D)\n",
    "    return DP, U"
   ]
  },
  {
   "cell_type": "code",
   "execution_count": 7,
   "metadata": {},
   "outputs": [],
   "source": [
    "result, _ = PCA(data, 2)"
   ]
  },
  {
   "cell_type": "code",
   "execution_count": 8,
   "metadata": {},
   "outputs": [],
   "source": [
    "import matplotlib.pyplot as plt\n",
    "def plot_iris(result, target):\n",
    "    plt.scatter(result[0, target==0], result[1, target==0], label='Setosa')\n",
    "    plt.scatter(result[0, target==1], result[1, target==1], label='Versicolor')\n",
    "    plt.scatter(result[0, target==2], result[1, target==2], label='Virginica')\n",
    "    plt.legend()\n",
    "    plt.show()"
   ]
  },
  {
   "cell_type": "code",
   "execution_count": 9,
   "metadata": {},
   "outputs": [
    {
     "data": {
      "image/png": "[encoded data removed]",
      "text/plain": [
       "<Figure size 640x480 with 1 Axes>"
      ]
     },
     "metadata": {},
     "output_type": "display_data"
    }
   ],
   "source": [
    "plot_iris(result, labels)"
   ]
  },
  {
   "cell_type": "code",
   "execution_count": 10,
   "metadata": {},
   "outputs": [],
   "source": [
    "data0 = data[:, labels==0]\n",
    "data1 = data[:, labels==1]\n",
    "data2 = data[:, labels==2]"
   ]
  },
  {
   "cell_type": "code",
   "execution_count": 11,
   "metadata": {},
   "outputs": [],
   "source": [
    "C0 = cov(data0)\n",
    "C1 = cov(data1)\n",
    "C2 = cov(data2)"
   ]
  },
  {
   "cell_type": "code",
   "execution_count": 12,
   "metadata": {},
   "outputs": [],
   "source": [
    "def within_cov(D, labels):\n",
    "    classes = set(labels)\n",
    "    C = np.zeros((D.shape[0], D.shape[0]))\n",
    "    for class_ in classes:\n",
    "        Dc = D[:, labels==class_]\n",
    "        mu_c = Dc.mean(axis=1)\n",
    "        Dc -= vcol(mu_c)\n",
    "        C += np.dot(Dc, Dc.T)\n",
    "    return C/D.shape[1]\n",
    "        \n",
    "\n",
    "def between_cov(D, labels):\n",
    "    classes = set(labels)\n",
    "    mu = D.mean(axis=1)\n",
    "    C = np.zeros((D.shape[0], D.shape[0]))\n",
    "    for class_ in classes:\n",
    "        Dc = D[:, labels==class_]\n",
    "        mu_c = Dc.mean(axis=1)\n",
    "        C += Dc.shape[1] * np.dot(vcol(mu_c-mu), vcol(mu_c-mu).T)\n",
    "    return C/D.shape[1]"
   ]
  },
  {
   "cell_type": "code",
   "execution_count": 13,
   "metadata": {},
   "outputs": [],
   "source": [
    "SW = within_cov(data, labels) \n",
    "SB = between_cov(data, labels)"
   ]
  },
  {
   "cell_type": "code",
   "execution_count": 14,
   "metadata": {},
   "outputs": [],
   "source": [
    "import scipy.linalg"
   ]
  },
  {
   "cell_type": "code",
   "execution_count": 15,
   "metadata": {},
   "outputs": [],
   "source": [
    "s, U = scipy.linalg.eigh(SB, SW)\n",
    "m = 2\n",
    "W = U[:, ::-1][:, 0:m]\n",
    "lda_result = np.dot(W.T, data)"
   ]
  },
  {
   "cell_type": "code",
   "execution_count": 16,
   "metadata": {},
   "outputs": [],
   "source": [
    "solution = np.load(\"IRIS_LDA_matrix_m2.npy\")"
   ]
  },
  {
   "cell_type": "code",
   "execution_count": 17,
   "metadata": {},
   "outputs": [
    {
     "data": {
      "text/plain": [
       "(array([[ 0.83779794,  0.02434685],\n",
       "        [ 1.55005187,  2.18649663],\n",
       "        [-2.22355955, -0.94138258],\n",
       "        [-2.83899363,  2.86801283]]),\n",
       " array([[ 0.83779794,  0.02434685],\n",
       "        [ 1.55005187,  2.18649663],\n",
       "        [-2.22355955, -0.94138258],\n",
       "        [-2.83899363,  2.86801283]]))"
      ]
     },
     "execution_count": 17,
     "metadata": {},
     "output_type": "execute_result"
    }
   ],
   "source": [
    "W, solution"
   ]
  },
  {
   "cell_type": "code",
   "execution_count": 18,
   "metadata": {},
   "outputs": [
    {
     "data": {
      "image/png": "[encoded data removed]",
      "text/plain": [
       "<Figure size 640x480 with 1 Axes>"
      ]
     },
     "metadata": {},
     "output_type": "display_data"
    }
   ],
   "source": [
    "plot_iris(lda_result, labels)"
   ]
  },
  {
   "cell_type": "markdown",
   "metadata": {},
   "source": [
    "# Binary Classification"
   ]
  },
  {
   "cell_type": "code",
   "execution_count": 19,
   "metadata": {},
   "outputs": [],
   "source": [
    "def lda(D, labels, m):\n",
    "    SW = within_cov(D, labels)\n",
    "    SB = between_cov(D, labels)\n",
    "    _, U = scipy.linalg.eigh(SB, SW)\n",
    "    W = U[:, ::-1][:, 0:m]\n",
    "    return np.dot(W.T, D), W"
   ]
  },
  {
   "cell_type": "code",
   "execution_count": 20,
   "metadata": {},
   "outputs": [
    {
     "data": {
      "text/plain": [
       "((4, 100), (100,))"
      ]
     },
     "execution_count": 20,
     "metadata": {},
     "output_type": "execute_result"
    }
   ],
   "source": [
    "b_data = data[:, labels!=0]\n",
    "b_labels = labels[labels!=0]\n",
    "b_data.shape, b_labels.shape"
   ]
  },
  {
   "cell_type": "code",
   "execution_count": 21,
   "metadata": {},
   "outputs": [],
   "source": [
    "def split(D, L, seed = 0):\n",
    "    nTrain = int(D.shape[1]*2.0/3.0)\n",
    "    np.random.seed(seed)\n",
    "    idx = np.random.permutation(D.shape[1])\n",
    "    idxTrain = idx[0:nTrain]\n",
    "    idxTest = idx[nTrain:]\n",
    "    DTR = D[:, idxTrain]\n",
    "    DVAL = D[:, idxTest]\n",
    "    LTR = L[idxTrain]\n",
    "    LVAL = L[idxTest]\n",
    "    return (DTR, LTR), (DVAL, LVAL)"
   ]
  },
  {
   "cell_type": "code",
   "execution_count": 22,
   "metadata": {},
   "outputs": [],
   "source": [
    "(DTR, LTR), (DVAL, LVAL) = split(b_data, b_labels)"
   ]
  },
  {
   "cell_type": "code",
   "execution_count": 23,
   "metadata": {},
   "outputs": [
    {
     "data": {
      "text/plain": [
       "((4, 66), (66,), (4, 34), (34,))"
      ]
     },
     "execution_count": 23,
     "metadata": {},
     "output_type": "execute_result"
    }
   ],
   "source": [
    "DTR.shape, LTR.shape, DVAL.shape, LVAL.shape"
   ]
  },
  {
   "cell_type": "code",
   "execution_count": 24,
   "metadata": {},
   "outputs": [],
   "source": [
    "DTR_lda, W = lda(DTR, LTR, 1)"
   ]
  },
  {
   "cell_type": "code",
   "execution_count": 25,
   "metadata": {},
   "outputs": [
    {
     "data": {
      "text/plain": [
       "array([[-0.88381021],\n",
       "       [-1.56103706],\n",
       "       [ 1.46175793],\n",
       "       [ 4.051348  ]])"
      ]
     },
     "execution_count": 25,
     "metadata": {},
     "output_type": "execute_result"
    }
   ],
   "source": [
    "W"
   ]
  },
  {
   "cell_type": "code",
   "execution_count": 26,
   "metadata": {},
   "outputs": [],
   "source": [
    "threshold = ((DTR_lda[0, LTR==1].mean() + DTR_lda[0, LTR==2].mean()) / 2.0)"
   ]
  },
  {
   "cell_type": "code",
   "execution_count": 27,
   "metadata": {},
   "outputs": [
    {
     "data": {
      "text/plain": [
       "4.078616922547409"
      ]
     },
     "execution_count": 27,
     "metadata": {},
     "output_type": "execute_result"
    }
   ],
   "source": [
    "threshold"
   ]
  },
  {
   "cell_type": "code",
   "execution_count": 28,
   "metadata": {},
   "outputs": [],
   "source": [
    "DVAL_lda = np.dot(W.T, DVAL)"
   ]
  },
  {
   "cell_type": "code",
   "execution_count": 29,
   "metadata": {},
   "outputs": [],
   "source": [
    "\n",
    "PVAL = np.zeros(shape=LVAL.shape, dtype=np.int32)\n",
    "PVAL[DVAL_lda[0] >= threshold] = 2\n",
    "PVAL[DVAL_lda[0] < threshold] = 1"
   ]
  },
  {
   "cell_type": "code",
   "execution_count": 30,
   "metadata": {},
   "outputs": [
    {
     "data": {
      "text/plain": [
       "(array([1, 2, 1, 2, 1, 1, 1, 2, 2, 2, 2, 2, 2, 2, 1, 1, 2, 1, 1, 2, 2, 1,\n",
       "        2, 2, 2, 1, 1, 1, 1, 2, 2, 2, 1, 1], dtype=int32),\n",
       " array([1, 2, 1, 2, 1, 1, 1, 2, 2, 2, 1, 2, 2, 2, 1, 1, 2, 1, 1, 2, 2, 1,\n",
       "        2, 2, 2, 1, 1, 2, 1, 2, 2, 2, 1, 1]))"
      ]
     },
     "execution_count": 30,
     "metadata": {},
     "output_type": "execute_result"
    }
   ],
   "source": [
    "PVAL, LVAL"
   ]
  },
  {
   "cell_type": "code",
   "execution_count": 31,
   "metadata": {},
   "outputs": [
    {
     "data": {
      "text/plain": [
       "(0.9411764705882353, 2)"
      ]
     },
     "execution_count": 31,
     "metadata": {},
     "output_type": "execute_result"
    }
   ],
   "source": [
    "#compute accuracy\n",
    "def accuracy(P, L):\n",
    "    return np.sum(P == L) / float(L.size), P.size - np.sum(P == L)\n",
    "accuracy(PVAL, LVAL)"
   ]
  },
  {
   "cell_type": "code",
   "execution_count": 52,
   "metadata": {},
   "outputs": [],
   "source": [
    "def binary_classification(D, L, m, pca = True):\n",
    "    (DTR, LTR), (DVAL, LVAL) = split(D[:, L!=0], L[L!=0])\n",
    "    if pca:\n",
    "        DTR, U = PCA(DTR, m)\n",
    "        P = U[:, ::-1][:, 0:m]\n",
    "        DVAL = np.dot(P.T, DVAL)\n",
    "    \n",
    "    DTRP_lda, W = lda(DTR, LTR, 1)\n",
    "    \n",
    "    mean_class_1 = DTRP_lda[0, LTR==1].mean()\n",
    "    mean_class_2 = DTRP_lda[0, LTR==2].mean()\n",
    "    \n",
    "    if mean_class_1 > mean_class_2:\n",
    "        W = -W  \n",
    "    threshold = (mean_class_1 + mean_class_2) / 2\n",
    "\n",
    "    DVALP_lda = np.dot(W.T, DVAL)\n",
    "    \n",
    "    PVAL = np.zeros(shape=LVAL.shape, dtype=np.int32)\n",
    "    PVAL[DVALP_lda[0] >= threshold] = 2\n",
    "    PVAL[DVALP_lda[0] < threshold] = 1\n",
    "    return accuracy(PVAL, LVAL)"
   ]
  },
  {
   "cell_type": "code",
   "execution_count": 53,
   "metadata": {},
   "outputs": [],
   "source": [
    "def pca_lda(D, L, m):\n",
    "    (DTR, LTR), (DVAL, LVAL) = split(D[:, L!=0], L[L!=0])\n",
    "    DTRP, U = PCA(DTR, m)\n",
    "    DTRP_lda, W = lda(DTRP, LTR, 1)\n",
    "    \n",
    "    P = U[:, ::-1][:, 0:m]\n",
    "    DVALP = np.dot(P.T, DVAL)\n",
    "    \n",
    "    mean_class_1 = DTRP_lda[0, LTR==1].mean()\n",
    "    mean_class_2 = DTRP_lda[0, LTR==2].mean()\n",
    "    \n",
    "    if mean_class_1 > mean_class_2:\n",
    "        W = -W  \n",
    "    threshold = (mean_class_1 + mean_class_2) / 2\n",
    "\n",
    "    DVALP_lda = np.dot(W.T, DVALP)\n",
    "    PVAL = np.zeros(shape=LVAL.shape, dtype=np.int32)\n",
    "    PVAL[DVALP_lda[0] >= threshold] = 2\n",
    "    PVAL[DVALP_lda[0] < threshold] = 1\n",
    "    return accuracy(PVAL, LVAL)"
   ]
  },
  {
   "cell_type": "code",
   "execution_count": 54,
   "metadata": {},
   "outputs": [
    {
     "data": {
      "text/plain": [
       "((0.5294117647058824, 16), (0.5294117647058824, 16), (0.9411764705882353, 2))"
      ]
     },
     "execution_count": 54,
     "metadata": {},
     "output_type": "execute_result"
    }
   ],
   "source": [
    "pca_lda(data, labels, 4), pca_lda(data, labels, 3), pca_lda(data, labels, 2)"
   ]
  },
  {
   "cell_type": "code",
   "execution_count": 57,
   "metadata": {},
   "outputs": [
    {
     "data": {
      "text/plain": [
       "((0.9411764705882353, 2), (0.5294117647058824, 16), (0.9411764705882353, 2))"
      ]
     },
     "execution_count": 57,
     "metadata": {},
     "output_type": "execute_result"
    }
   ],
   "source": [
    "binary_classification(data, labels, 4, False), binary_classification(data, labels, 3), binary_classification(data, labels, 2)"
   ]
  },
  {
   "cell_type": "code",
   "execution_count": 34,
   "metadata": {},
   "outputs": [],
   "source": [
    "def plot_hist(feature, labels, bins=10):\n",
    "    l = [\"1\", \"2\"]\n",
    "    plt.hist(feature[labels == 1].flatten(), alpha=0.5, label=l[0], bins=bins, density=True)\n",
    "    plt.hist(feature[labels == 2].flatten(), alpha=0.5, label=l[1], bins=bins, density=True)\n",
    "    plt.legend()\n",
    "    plt.show()"
   ]
  },
  {
   "cell_type": "code",
   "execution_count": 35,
   "metadata": {},
   "outputs": [
    {
     "data": {
      "image/png": "[encoded data removed]",
      "text/plain": [
       "<Figure size 640x480 with 1 Axes>"
      ]
     },
     "metadata": {},
     "output_type": "display_data"
    }
   ],
   "source": [
    "plot_hist(DTR_lda[0], LTR, 5)"
   ]
  },
  {
   "cell_type": "code",
   "execution_count": 36,
   "metadata": {},
   "outputs": [
    {
     "data": {
      "image/png": "[encoded data removed]",
      "text/plain": [
       "<Figure size 640x480 with 1 Axes>"
      ]
     },
     "metadata": {},
     "output_type": "display_data"
    }
   ],
   "source": [
    "DVAL_lda = np.dot(W.T, DVAL)\n",
    "plot_hist(DVAL_lda[0], LVAL, 5)"
   ]
  }
 ],
 "metadata": {
  "kernelspec": {
   "display_name": "env",
   "language": "python",
   "name": "python3"
  },
  "language_info": {
   "codemirror_mode": {
    "name": "ipython",
    "version": 3
   },
   "file_extension": ".py",
   "mimetype": "text/x-python",
   "name": "python",
   "nbconvert_exporter": "python",
   "pygments_lexer": "ipython3",
   "version": "3.11.6"
  }
 },
 "nbformat": 4,
 "nbformat_minor": 2
}
